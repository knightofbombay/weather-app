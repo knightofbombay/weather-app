{
 "cells": [
  {
   "cell_type": "markdown",
   "metadata": {},
   "source": [
    "# Weather Analysis\n",
    "## This app calculates mean, min and max of temperate and humidity data and plots it using matplotlib"
   ]
  },
  {
   "cell_type": "code",
   "execution_count": null,
   "metadata": {},
   "outputs": [],
   "source": [
    "%pip install pandas==2.1.4\n",
    "%pip install matplotlib==3.8.2\n",
    "%pip install nbconvert==7.12.0\n",
    "\n",
    "import pkg_resources\n",
    "pkg_resources.require(\"pandas==2.1.4\")\n",
    "pkg_resources.require(\"matplotlib==3.8.2\")\n",
    "pkg_resources.require(\"nbconvert==7.12.0\")"
   ]
  },
  {
   "cell_type": "markdown",
   "metadata": {},
   "source": [
    "**Loading Weather Data**\n",
    "_We will first load the raw weather dataset from CSV and prepare it for analysis._"
   ]
  },
  {
   "cell_type": "code",
   "execution_count": 2,
   "metadata": {},
   "outputs": [],
   "source": [
    "import pandas as pd\n",
    "from pandas.errors import EmptyDataError\n",
    "\n",
    "def load_data(file_name: str) -> pd.DataFrame:\n",
    "    try:\n",
    "        df = pd.read_csv(file_name)\n",
    "        if 'Date' in df.columns:\n",
    "            df['Date'] = pd.to_datetime(df['Date'])\n",
    "        return df\n",
    "    except FileNotFoundError:\n",
    "        print(f\"The file '{file_name}' does not exist.\")\n",
    "        return pd.DataFrame()\n",
    "    except EmptyDataError:\n",
    "        print(f\"The file '{file_name}' is empty.\")\n",
    "        return pd.DataFrame()\n",
    "    "
   ]
  },
  {
   "cell_type": "markdown",
   "metadata": {},
   "source": [
    "_The data contains daily temperature and humidity measurements over the past 5 years._\n",
    "\n",
    "**Now we will calculate descriptive statistics**"
   ]
  },
  {
   "cell_type": "code",
   "execution_count": 3,
   "metadata": {},
   "outputs": [],
   "source": [
    "import pandas as pd\n",
    "\n",
    "def calculate_stats(df: pd.DataFrame) -> pd.DataFrame:\n",
    "    stats = df[[\"TemperatureC\", \"Humidity\"]].agg([\"mean\", \"min\", \"max\"])\n",
    "    return stats"
   ]
  },
  {
   "cell_type": "markdown",
   "metadata": {},
   "source": [
    "**Visualizing Results**\n",
    "_Split out figure into separate plots for easier comparison._"
   ]
  },
  {
   "cell_type": "code",
   "execution_count": 4,
   "metadata": {},
   "outputs": [],
   "source": [
    "import pandas as pd\n",
    "import matplotlib\n",
    "\n",
    "matplotlib.use(\"TkAgg\")\n",
    "import matplotlib.pyplot as plt  # noqa: E402\n",
    "\n",
    "\n",
    "def plot_graphs(stats_df: pd.DataFrame) -> matplotlib.figure.Figure:\n",
    "    fig, (ax1, ax2) = plt.subplots(2)\n",
    "\n",
    "    # Plot onto axes\n",
    "    stats_df[\"TemperatureC\"].plot(ax=ax1)\n",
    "    stats_df[\"Humidity\"].plot.bar(ax=ax2)\n",
    "\n",
    "    ax1.set_ylabel(\"Temperature (C)\")\n",
    "    ax2.set_ylabel(\"Humidity %\")\n",
    "\n",
    "    # Display plots\n",
    "    plt.tight_layout()\n",
    "    plt.show()\n",
    "\n",
    "    return fig\n"
   ]
  },
  {
   "cell_type": "markdown",
   "metadata": {},
   "source": [
    "**Visualizing Results**\n",
    "_Render on UI_"
   ]
  },
  {
   "cell_type": "code",
   "execution_count": null,
   "metadata": {},
   "outputs": [],
   "source": [
    "# Load data\n",
    "df = load_data('weather_data.csv')\n",
    "\n",
    "# Calculate statistics\n",
    "stats = calculate_stats(df)\n",
    "print(stats)\n",
    "\n",
    "# Visualize\n",
    "plot_graphs(stats)"
   ]
  }
 ],
 "metadata": {
  "kernelspec": {
   "display_name": "Python 3",
   "language": "python",
   "name": "python3"
  },
  "language_info": {
   "codemirror_mode": {
    "name": "ipython",
    "version": 3
   },
   "file_extension": ".py",
   "mimetype": "text/x-python",
   "name": "python",
   "nbconvert_exporter": "python",
   "pygments_lexer": "ipython3",
   "version": "3.11.5"
  }
 },
 "nbformat": 4,
 "nbformat_minor": 2
}
